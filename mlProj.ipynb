{
 "cells": [
  {
   "cell_type": "code",
   "execution_count": 1,
   "id": "8d227887-eb84-4059-bc66-d8a5d3b3de84",
   "metadata": {
    "tags": []
   },
   "outputs": [],
   "source": [
    "import pandas as pd\n",
    "import numpy as np\n",
    "import matplotlib.pyplot as plt\n",
    "from sklearn.ensemble import RandomForestClassifier\n",
    "from sklearn.linear_model import LogisticRegression\n",
    "from sklearn.model_selection import train_test_split, StratifiedKFold\n",
    "from sklearn.metrics import confusion_matrix, accuracy_score\n",
    "import seaborn as sns\n",
    "# Reading in the data\n",
    "df = pd.read_csv(\"beer_profile_and_ratings.csv\")"
   ]
  },
  {
   "cell_type": "code",
   "execution_count": 2,
   "id": "960e986f-b4dc-4eeb-af79-036d3d7c260a",
   "metadata": {
    "tags": []
   },
   "outputs": [
    {
     "data": {
      "text/plain": [
       "[]"
      ]
     },
     "execution_count": 2,
     "metadata": {},
     "output_type": "execute_result"
    },
    {
     "data": {
      "image/png": "[encoded data removed]",
      "text/plain": [
       "<Figure size 432x288 with 1 Axes>"
      ]
     },
     "metadata": {
      "needs_background": "light"
     },
     "output_type": "display_data"
    }
   ],
   "source": [
    "plt.hist(df['Spices'])\n",
    "plt.xlabel('Spicy')\n",
    "plt.ylabel('Counts')\n",
    "plt.plot()"
   ]
  },
  {
   "cell_type": "code",
   "execution_count": 3,
   "id": "f333ed88-869d-40cc-b838-805170914ed7",
   "metadata": {
    "tags": []
   },
   "outputs": [
    {
     "data": {
      "text/plain": [
       "(1990, 9)"
      ]
     },
     "execution_count": 3,
     "metadata": {},
     "output_type": "execute_result"
    }
   ],
   "source": [
    "# Drop the beers having less than 50 reviews\n",
    "df.drop(df[df['number_of_reviews'] < 50].index, inplace = True)\n",
    "df.reset_index(inplace = True, drop = True)\n",
    "\n",
    "# Create the new, categorical columns (before deleting the old ones)\n",
    "# All the columns are gonna be deleted, except ABV and review_overall\n",
    "all_features = list(df.columns)\n",
    "all_features.remove('review_overall')\n",
    "all_features.remove('ABV')\n",
    "categorical_columns = ['Astringency', 'Body', 'Bitter', 'Sweet', 'Sour', 'Fruits', 'Spices']\n",
    "\n",
    "labels = [0, 1, 2, 3]\n",
    "for i in range(len(categorical_columns)):\n",
    "    column = categorical_columns[i]\n",
    "    \n",
    "    # Here, we're trying to split the data into bins of +/- equal size\n",
    "    # However, since some values appear more than 1/5 of the time (as for example salty appears 1527 with value 0)\n",
    "    # There's no solution but to increase the lower bound of the next interval (and all the ones following)\n",
    "    theSplit = np.array_split(np.sort(df[column]), 4)\n",
    "    intervals = list(map(lambda x: x[0], theSplit))\n",
    "    for i in range(1, len(intervals)):\n",
    "        if intervals[i] <= intervals[i - 1]:\n",
    "            intervals[i] = intervals[i - 1] + 1\n",
    "    intervals.append(theSplit[-1][-1])\n",
    "    \n",
    "    categorized = pd.cut(df[column], bins = intervals, labels = labels, include_lowest = True)\n",
    "    df.insert(i + 2, column.lower(), categorized)\n",
    "\n",
    "# Drop the unnecessary/useless columns\n",
    "df.drop(all_features, axis = 1, inplace = True)\n",
    "df.shape"
   ]
  },
  {
   "cell_type": "code",
   "execution_count": 4,
   "id": "c7723003-e471-4e21-962d-b36eacc19d84",
   "metadata": {
    "tags": []
   },
   "outputs": [
    {
     "data": {
      "text/plain": [
       "1    1067\n",
       "2     572\n",
       "0     335\n",
       "3      16\n",
       "Name: review_overall, dtype: int64"
      ]
     },
     "execution_count": 4,
     "metadata": {},
     "output_type": "execute_result"
    }
   ],
   "source": [
    "# the manually selected interval bounds\n",
    "# high-quality beers are the ones with >=4.5 rating\n",
    "# good beers have rating between 4 and 4.5\n",
    "# average beers have ratings between 3.5 and 4\n",
    "# and bad beers have ratings under 3.5\n",
    "intervals = [1, 3.5, 4, 4.5, 5]\n",
    "\n",
    "# creating the features and labels \n",
    "X = df.drop(['review_overall'], axis = 1)\n",
    "y = pd.cut(df['review_overall'], bins = intervals, labels = labels, include_lowest = True)\n",
    "y.value_counts()"
   ]
  },
  {
   "cell_type": "code",
   "execution_count": 5,
   "id": "11a6e141-1f16-4950-b793-fd2620fd633d",
   "metadata": {
    "tags": []
   },
   "outputs": [
    {
     "name": "stdout",
     "output_type": "stream",
     "text": [
      "The best train accuracy is achieved during fold 2 and it is equal to 0.8070017953321365.\n",
      "The best validation accuracy is achieved during fold 3 and it is equal to 0.6379928315412187.\n",
      "The test accuracy of the best train model is 0.6314907872696818.\n",
      "The test accuracy of the best validation model is 0.6197654941373534.\n"
     ]
    }
   ],
   "source": [
    "# splitting data into train/test\n",
    "X_train_val, X_test, y_train_val, y_test = train_test_split(X, y, test_size = 0.3, random_state = 127)\n",
    "stratKFold = StratifiedKFold(shuffle = True)\n",
    "\n",
    "# lists to save the train accuracies, validation accuracies, and the models themselves\n",
    "y_train_acc_rfc = []\n",
    "y_valid_acc_rfc = []\n",
    "rfcs = []\n",
    "\n",
    "for tr, val in stratKFold.split(X_train_val, y_train_val):\n",
    "    X_train = X_train_val.iloc[tr] \n",
    "    X_val = X_train_val.iloc[val]\n",
    "    y_train = y_train_val.iloc[tr]\n",
    "    y_val = y_train_val.iloc[val]\n",
    "    \n",
    "    # creating and training the model\n",
    "    rfc = RandomForestClassifier(criterion = 'gini', min_samples_split = 10)\n",
    "    rfc.fit(X_train, y_train)\n",
    "    \n",
    "    y_train_acc_rfc.append(accuracy_score(rfc.predict(X_train), y_train))\n",
    "    y_valid_acc_rfc.append(accuracy_score(rfc.predict(X_val), y_val))\n",
    "    rfcs.append(rfc)\n",
    "    \n",
    "bestRFCval = rfcs[np.argmax(y_valid_acc_rfc)]\n",
    "bestRFCtrain = rfcs[np.argmax(y_train_acc_rfc)]\n",
    "print(f\"The best train accuracy is achieved during fold {1 + np.argmax(y_train_acc_rfc)} and it is equal to {max(y_train_acc_rfc)}.\")\n",
    "print(f\"The best validation accuracy is achieved during fold {1 + np.argmax(y_valid_acc_rfc)} and it is equal to {max(y_valid_acc_rfc)}.\")\n",
    "print(f\"The test accuracy of the best train model is {accuracy_score(y_test, bestRFCtrain.predict(X_test))}.\")\n",
    "print(f\"The test accuracy of the best validation model is {accuracy_score(y_test, bestRFCval.predict(X_test))}.\")"
   ]
  },
  {
   "cell_type": "code",
   "execution_count": 6,
   "id": "bbaf4f02-d561-4ef0-90d8-e344e431d22e",
   "metadata": {
    "tags": []
   },
   "outputs": [
    {
     "data": {
      "text/plain": [
       "Text(0.5, 1.0, 'Confusion Matrix')"
      ]
     },
     "execution_count": 6,
     "metadata": {},
     "output_type": "execute_result"
    },
    {
     "data": {
      "image/png": "[encoded data removed]",
      "text/plain": [
       "<Figure size 432x288 with 2 Axes>"
      ]
     },
     "metadata": {
      "needs_background": "light"
     },
     "output_type": "display_data"
    }
   ],
   "source": [
    "ax= plt.subplot()\n",
    "\n",
    "sns.heatmap(confusion_matrix(y_test, bestRFCval.predict(X_test)), annot=True, fmt='g', ax=ax)\n",
    "\n",
    "ax.set_xlabel('Predicted labels',fontsize=15)\n",
    "ax.set_ylabel('True labels',fontsize=15)\n",
    "ax.set_title('Confusion Matrix',fontsize=15)"
   ]
  },
  {
   "cell_type": "code",
   "execution_count": null,
   "id": "bdaed2d5-00ac-4eba-9cb2-46eacf1e5da0",
   "metadata": {},
   "outputs": [],
   "source": []
  }
 ],
 "metadata": {
  "kernelspec": {
   "display_name": "Python 3",
   "language": "python",
   "name": "python3"
  },
  "language_info": {
   "codemirror_mode": {
    "name": "ipython",
    "version": 3
   },
   "file_extension": ".py",
   "mimetype": "text/x-python",
   "name": "python",
   "nbconvert_exporter": "python",
   "pygments_lexer": "ipython3",
   "version": "3.9.12"
  }
 },
 "nbformat": 4,
 "nbformat_minor": 5
}
